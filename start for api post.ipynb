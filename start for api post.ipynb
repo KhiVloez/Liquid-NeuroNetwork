{
 "cells": [
  {
   "cell_type": "code",
   "execution_count": null,
   "metadata": {},
   "outputs": [],
   "source": [
    "from flask import Flask, request, jsonify\n",
    "from flask_cors import CORS \n",
    "app = Flask(__name__)\n",
    "CORS(app)\n",
    "\n",
    "@app.route('/regbutton', methods=['POST'])\n",
    "def regbutton():\n",
    "    try:\n",
    "        data = request.json\n",
    "\n",
    "        input_data = data.get('input_data,' None)\n",
    "\n",
    "        if input_data is None:\n",
    "            return jsonify({\"error\": \"Missing input_data\"}), 400\n",
    "        \n",
    "        "
   ]
  }
 ],
 "metadata": {
  "language_info": {
   "name": "python"
  }
 },
 "nbformat": 4,
 "nbformat_minor": 2
}
